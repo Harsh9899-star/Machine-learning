{
 "cells": [
  {
   "cell_type": "code",
   "execution_count": 1,
   "id": "3bdbe271",
   "metadata": {},
   "outputs": [],
   "source": [
    "import pandas as pd\n",
    "import numpy as np\n",
    "from sklearn.preprocessing import StandardScaler\n",
    "from sklearn.linear_model import LinearRegression\n",
    "from sklearn.model_selection import train_test_split\n",
    "import statsmodels.api as sm\n",
    "import matplotlib.pyplot as plt\n",
    "import seaborn as sns\n",
    "sns.set()"
   ]
  },
  {
   "cell_type": "code",
   "execution_count": 2,
   "id": "5be7c66b",
   "metadata": {},
   "outputs": [],
   "source": [
    "data=pd.read_csv(\"C:/Users/USER/Downloads/simple_housing.csv\")"
   ]
  },
  {
   "cell_type": "code",
   "execution_count": 3,
   "id": "c05ce344",
   "metadata": {},
   "outputs": [
    {
     "data": {
      "text/html": [
       "<div>\n",
       "<style scoped>\n",
       "    .dataframe tbody tr th:only-of-type {\n",
       "        vertical-align: middle;\n",
       "    }\n",
       "\n",
       "    .dataframe tbody tr th {\n",
       "        vertical-align: top;\n",
       "    }\n",
       "\n",
       "    .dataframe thead th {\n",
       "        text-align: right;\n",
       "    }\n",
       "</style>\n",
       "<table border=\"1\" class=\"dataframe\">\n",
       "  <thead>\n",
       "    <tr style=\"text-align: right;\">\n",
       "      <th></th>\n",
       "      <th>date</th>\n",
       "      <th>price</th>\n",
       "      <th>bedrooms</th>\n",
       "      <th>bathrooms</th>\n",
       "      <th>sqft_living</th>\n",
       "      <th>sqft_lot</th>\n",
       "      <th>floors</th>\n",
       "      <th>waterfront</th>\n",
       "      <th>view</th>\n",
       "      <th>condition</th>\n",
       "      <th>sqft_above</th>\n",
       "      <th>sqft_basement</th>\n",
       "      <th>yr_built</th>\n",
       "      <th>yr_renovated</th>\n",
       "      <th>street</th>\n",
       "      <th>city</th>\n",
       "      <th>statezip</th>\n",
       "      <th>country</th>\n",
       "    </tr>\n",
       "  </thead>\n",
       "  <tbody>\n",
       "    <tr>\n",
       "      <th>0</th>\n",
       "      <td>2014-05-02 00:00:00</td>\n",
       "      <td>3.130000e+05</td>\n",
       "      <td>3.0</td>\n",
       "      <td>1.50</td>\n",
       "      <td>1340</td>\n",
       "      <td>7912</td>\n",
       "      <td>1.5</td>\n",
       "      <td>0</td>\n",
       "      <td>0</td>\n",
       "      <td>3</td>\n",
       "      <td>1340</td>\n",
       "      <td>0</td>\n",
       "      <td>1955</td>\n",
       "      <td>2005</td>\n",
       "      <td>18810 Densmore Ave N</td>\n",
       "      <td>Shoreline</td>\n",
       "      <td>WA 98133</td>\n",
       "      <td>USA</td>\n",
       "    </tr>\n",
       "    <tr>\n",
       "      <th>1</th>\n",
       "      <td>2014-05-02 00:00:00</td>\n",
       "      <td>2.384000e+06</td>\n",
       "      <td>5.0</td>\n",
       "      <td>2.50</td>\n",
       "      <td>3650</td>\n",
       "      <td>9050</td>\n",
       "      <td>2.0</td>\n",
       "      <td>0</td>\n",
       "      <td>4</td>\n",
       "      <td>5</td>\n",
       "      <td>3370</td>\n",
       "      <td>280</td>\n",
       "      <td>1921</td>\n",
       "      <td>0</td>\n",
       "      <td>709 W Blaine St</td>\n",
       "      <td>Seattle</td>\n",
       "      <td>WA 98119</td>\n",
       "      <td>USA</td>\n",
       "    </tr>\n",
       "    <tr>\n",
       "      <th>2</th>\n",
       "      <td>2014-05-02 00:00:00</td>\n",
       "      <td>3.420000e+05</td>\n",
       "      <td>3.0</td>\n",
       "      <td>2.00</td>\n",
       "      <td>1930</td>\n",
       "      <td>11947</td>\n",
       "      <td>1.0</td>\n",
       "      <td>0</td>\n",
       "      <td>0</td>\n",
       "      <td>4</td>\n",
       "      <td>1930</td>\n",
       "      <td>0</td>\n",
       "      <td>1966</td>\n",
       "      <td>0</td>\n",
       "      <td>26206-26214 143rd Ave SE</td>\n",
       "      <td>Kent</td>\n",
       "      <td>WA 98042</td>\n",
       "      <td>USA</td>\n",
       "    </tr>\n",
       "    <tr>\n",
       "      <th>3</th>\n",
       "      <td>2014-05-02 00:00:00</td>\n",
       "      <td>4.200000e+05</td>\n",
       "      <td>3.0</td>\n",
       "      <td>2.25</td>\n",
       "      <td>2000</td>\n",
       "      <td>8030</td>\n",
       "      <td>1.0</td>\n",
       "      <td>0</td>\n",
       "      <td>0</td>\n",
       "      <td>4</td>\n",
       "      <td>1000</td>\n",
       "      <td>1000</td>\n",
       "      <td>1963</td>\n",
       "      <td>0</td>\n",
       "      <td>857 170th Pl NE</td>\n",
       "      <td>Bellevue</td>\n",
       "      <td>WA 98008</td>\n",
       "      <td>USA</td>\n",
       "    </tr>\n",
       "    <tr>\n",
       "      <th>4</th>\n",
       "      <td>2014-05-02 00:00:00</td>\n",
       "      <td>5.500000e+05</td>\n",
       "      <td>4.0</td>\n",
       "      <td>2.50</td>\n",
       "      <td>1940</td>\n",
       "      <td>10500</td>\n",
       "      <td>1.0</td>\n",
       "      <td>0</td>\n",
       "      <td>0</td>\n",
       "      <td>4</td>\n",
       "      <td>1140</td>\n",
       "      <td>800</td>\n",
       "      <td>1976</td>\n",
       "      <td>1992</td>\n",
       "      <td>9105 170th Ave NE</td>\n",
       "      <td>Redmond</td>\n",
       "      <td>WA 98052</td>\n",
       "      <td>USA</td>\n",
       "    </tr>\n",
       "    <tr>\n",
       "      <th>...</th>\n",
       "      <td>...</td>\n",
       "      <td>...</td>\n",
       "      <td>...</td>\n",
       "      <td>...</td>\n",
       "      <td>...</td>\n",
       "      <td>...</td>\n",
       "      <td>...</td>\n",
       "      <td>...</td>\n",
       "      <td>...</td>\n",
       "      <td>...</td>\n",
       "      <td>...</td>\n",
       "      <td>...</td>\n",
       "      <td>...</td>\n",
       "      <td>...</td>\n",
       "      <td>...</td>\n",
       "      <td>...</td>\n",
       "      <td>...</td>\n",
       "      <td>...</td>\n",
       "    </tr>\n",
       "    <tr>\n",
       "      <th>4595</th>\n",
       "      <td>2014-07-09 00:00:00</td>\n",
       "      <td>3.081667e+05</td>\n",
       "      <td>3.0</td>\n",
       "      <td>1.75</td>\n",
       "      <td>1510</td>\n",
       "      <td>6360</td>\n",
       "      <td>1.0</td>\n",
       "      <td>0</td>\n",
       "      <td>0</td>\n",
       "      <td>4</td>\n",
       "      <td>1510</td>\n",
       "      <td>0</td>\n",
       "      <td>1954</td>\n",
       "      <td>1979</td>\n",
       "      <td>501 N 143rd St</td>\n",
       "      <td>Seattle</td>\n",
       "      <td>WA 98133</td>\n",
       "      <td>USA</td>\n",
       "    </tr>\n",
       "    <tr>\n",
       "      <th>4596</th>\n",
       "      <td>2014-07-09 00:00:00</td>\n",
       "      <td>5.343333e+05</td>\n",
       "      <td>3.0</td>\n",
       "      <td>2.50</td>\n",
       "      <td>1460</td>\n",
       "      <td>7573</td>\n",
       "      <td>2.0</td>\n",
       "      <td>0</td>\n",
       "      <td>0</td>\n",
       "      <td>3</td>\n",
       "      <td>1460</td>\n",
       "      <td>0</td>\n",
       "      <td>1983</td>\n",
       "      <td>2009</td>\n",
       "      <td>14855 SE 10th Pl</td>\n",
       "      <td>Bellevue</td>\n",
       "      <td>WA 98007</td>\n",
       "      <td>USA</td>\n",
       "    </tr>\n",
       "    <tr>\n",
       "      <th>4597</th>\n",
       "      <td>2014-07-09 00:00:00</td>\n",
       "      <td>4.169042e+05</td>\n",
       "      <td>3.0</td>\n",
       "      <td>2.50</td>\n",
       "      <td>3010</td>\n",
       "      <td>7014</td>\n",
       "      <td>2.0</td>\n",
       "      <td>0</td>\n",
       "      <td>0</td>\n",
       "      <td>3</td>\n",
       "      <td>3010</td>\n",
       "      <td>0</td>\n",
       "      <td>2009</td>\n",
       "      <td>0</td>\n",
       "      <td>759 Ilwaco Pl NE</td>\n",
       "      <td>Renton</td>\n",
       "      <td>WA 98059</td>\n",
       "      <td>USA</td>\n",
       "    </tr>\n",
       "    <tr>\n",
       "      <th>4598</th>\n",
       "      <td>2014-07-10 00:00:00</td>\n",
       "      <td>2.034000e+05</td>\n",
       "      <td>4.0</td>\n",
       "      <td>2.00</td>\n",
       "      <td>2090</td>\n",
       "      <td>6630</td>\n",
       "      <td>1.0</td>\n",
       "      <td>0</td>\n",
       "      <td>0</td>\n",
       "      <td>3</td>\n",
       "      <td>1070</td>\n",
       "      <td>1020</td>\n",
       "      <td>1974</td>\n",
       "      <td>0</td>\n",
       "      <td>5148 S Creston St</td>\n",
       "      <td>Seattle</td>\n",
       "      <td>WA 98178</td>\n",
       "      <td>USA</td>\n",
       "    </tr>\n",
       "    <tr>\n",
       "      <th>4599</th>\n",
       "      <td>2014-07-10 00:00:00</td>\n",
       "      <td>2.206000e+05</td>\n",
       "      <td>3.0</td>\n",
       "      <td>2.50</td>\n",
       "      <td>1490</td>\n",
       "      <td>8102</td>\n",
       "      <td>2.0</td>\n",
       "      <td>0</td>\n",
       "      <td>0</td>\n",
       "      <td>4</td>\n",
       "      <td>1490</td>\n",
       "      <td>0</td>\n",
       "      <td>1990</td>\n",
       "      <td>0</td>\n",
       "      <td>18717 SE 258th St</td>\n",
       "      <td>Covington</td>\n",
       "      <td>WA 98042</td>\n",
       "      <td>USA</td>\n",
       "    </tr>\n",
       "  </tbody>\n",
       "</table>\n",
       "<p>4600 rows × 18 columns</p>\n",
       "</div>"
      ],
      "text/plain": [
       "                     date         price  bedrooms  bathrooms  sqft_living  \\\n",
       "0     2014-05-02 00:00:00  3.130000e+05       3.0       1.50         1340   \n",
       "1     2014-05-02 00:00:00  2.384000e+06       5.0       2.50         3650   \n",
       "2     2014-05-02 00:00:00  3.420000e+05       3.0       2.00         1930   \n",
       "3     2014-05-02 00:00:00  4.200000e+05       3.0       2.25         2000   \n",
       "4     2014-05-02 00:00:00  5.500000e+05       4.0       2.50         1940   \n",
       "...                   ...           ...       ...        ...          ...   \n",
       "4595  2014-07-09 00:00:00  3.081667e+05       3.0       1.75         1510   \n",
       "4596  2014-07-09 00:00:00  5.343333e+05       3.0       2.50         1460   \n",
       "4597  2014-07-09 00:00:00  4.169042e+05       3.0       2.50         3010   \n",
       "4598  2014-07-10 00:00:00  2.034000e+05       4.0       2.00         2090   \n",
       "4599  2014-07-10 00:00:00  2.206000e+05       3.0       2.50         1490   \n",
       "\n",
       "      sqft_lot  floors  waterfront  view  condition  sqft_above  \\\n",
       "0         7912     1.5           0     0          3        1340   \n",
       "1         9050     2.0           0     4          5        3370   \n",
       "2        11947     1.0           0     0          4        1930   \n",
       "3         8030     1.0           0     0          4        1000   \n",
       "4        10500     1.0           0     0          4        1140   \n",
       "...        ...     ...         ...   ...        ...         ...   \n",
       "4595      6360     1.0           0     0          4        1510   \n",
       "4596      7573     2.0           0     0          3        1460   \n",
       "4597      7014     2.0           0     0          3        3010   \n",
       "4598      6630     1.0           0     0          3        1070   \n",
       "4599      8102     2.0           0     0          4        1490   \n",
       "\n",
       "      sqft_basement  yr_built  yr_renovated                    street  \\\n",
       "0                 0      1955          2005      18810 Densmore Ave N   \n",
       "1               280      1921             0           709 W Blaine St   \n",
       "2                 0      1966             0  26206-26214 143rd Ave SE   \n",
       "3              1000      1963             0           857 170th Pl NE   \n",
       "4               800      1976          1992         9105 170th Ave NE   \n",
       "...             ...       ...           ...                       ...   \n",
       "4595              0      1954          1979            501 N 143rd St   \n",
       "4596              0      1983          2009          14855 SE 10th Pl   \n",
       "4597              0      2009             0          759 Ilwaco Pl NE   \n",
       "4598           1020      1974             0         5148 S Creston St   \n",
       "4599              0      1990             0         18717 SE 258th St   \n",
       "\n",
       "           city  statezip country  \n",
       "0     Shoreline  WA 98133     USA  \n",
       "1       Seattle  WA 98119     USA  \n",
       "2          Kent  WA 98042     USA  \n",
       "3      Bellevue  WA 98008     USA  \n",
       "4       Redmond  WA 98052     USA  \n",
       "...         ...       ...     ...  \n",
       "4595    Seattle  WA 98133     USA  \n",
       "4596   Bellevue  WA 98007     USA  \n",
       "4597     Renton  WA 98059     USA  \n",
       "4598    Seattle  WA 98178     USA  \n",
       "4599  Covington  WA 98042     USA  \n",
       "\n",
       "[4600 rows x 18 columns]"
      ]
     },
     "execution_count": 3,
     "metadata": {},
     "output_type": "execute_result"
    }
   ],
   "source": [
    "data"
   ]
  },
  {
   "cell_type": "code",
   "execution_count": 4,
   "id": "a00a7abb",
   "metadata": {},
   "outputs": [
    {
     "name": "stdout",
     "output_type": "stream",
     "text": [
      "<class 'pandas.core.frame.DataFrame'>\n",
      "RangeIndex: 4600 entries, 0 to 4599\n",
      "Data columns (total 18 columns):\n",
      " #   Column         Non-Null Count  Dtype  \n",
      "---  ------         --------------  -----  \n",
      " 0   date           4600 non-null   object \n",
      " 1   price          4600 non-null   float64\n",
      " 2   bedrooms       4600 non-null   float64\n",
      " 3   bathrooms      4600 non-null   float64\n",
      " 4   sqft_living    4600 non-null   int64  \n",
      " 5   sqft_lot       4600 non-null   int64  \n",
      " 6   floors         4600 non-null   float64\n",
      " 7   waterfront     4600 non-null   int64  \n",
      " 8   view           4600 non-null   int64  \n",
      " 9   condition      4600 non-null   int64  \n",
      " 10  sqft_above     4600 non-null   int64  \n",
      " 11  sqft_basement  4600 non-null   int64  \n",
      " 12  yr_built       4600 non-null   int64  \n",
      " 13  yr_renovated   4600 non-null   int64  \n",
      " 14  street         4600 non-null   object \n",
      " 15  city           4600 non-null   object \n",
      " 16  statezip       4600 non-null   object \n",
      " 17  country        4600 non-null   object \n",
      "dtypes: float64(4), int64(9), object(5)\n",
      "memory usage: 647.0+ KB\n"
     ]
    }
   ],
   "source": [
    "data.info()"
   ]
  },
  {
   "cell_type": "code",
   "execution_count": 5,
   "id": "0b88c0d6",
   "metadata": {},
   "outputs": [
    {
     "data": {
      "text/plain": [
       "date             0\n",
       "price            0\n",
       "bedrooms         0\n",
       "bathrooms        0\n",
       "sqft_living      0\n",
       "sqft_lot         0\n",
       "floors           0\n",
       "waterfront       0\n",
       "view             0\n",
       "condition        0\n",
       "sqft_above       0\n",
       "sqft_basement    0\n",
       "yr_built         0\n",
       "yr_renovated     0\n",
       "street           0\n",
       "city             0\n",
       "statezip         0\n",
       "country          0\n",
       "dtype: int64"
      ]
     },
     "execution_count": 5,
     "metadata": {},
     "output_type": "execute_result"
    }
   ],
   "source": [
    "data.isnull().sum()"
   ]
  },
  {
   "cell_type": "code",
   "execution_count": 6,
   "id": "3b8419c8",
   "metadata": {},
   "outputs": [
    {
     "data": {
      "text/html": [
       "<div>\n",
       "<style scoped>\n",
       "    .dataframe tbody tr th:only-of-type {\n",
       "        vertical-align: middle;\n",
       "    }\n",
       "\n",
       "    .dataframe tbody tr th {\n",
       "        vertical-align: top;\n",
       "    }\n",
       "\n",
       "    .dataframe thead th {\n",
       "        text-align: right;\n",
       "    }\n",
       "</style>\n",
       "<table border=\"1\" class=\"dataframe\">\n",
       "  <thead>\n",
       "    <tr style=\"text-align: right;\">\n",
       "      <th></th>\n",
       "      <th>price</th>\n",
       "      <th>bedrooms</th>\n",
       "      <th>bathrooms</th>\n",
       "      <th>sqft_living</th>\n",
       "      <th>sqft_lot</th>\n",
       "      <th>floors</th>\n",
       "      <th>waterfront</th>\n",
       "      <th>view</th>\n",
       "      <th>condition</th>\n",
       "      <th>sqft_above</th>\n",
       "      <th>sqft_basement</th>\n",
       "      <th>yr_built</th>\n",
       "      <th>yr_renovated</th>\n",
       "    </tr>\n",
       "  </thead>\n",
       "  <tbody>\n",
       "    <tr>\n",
       "      <th>count</th>\n",
       "      <td>4.600000e+03</td>\n",
       "      <td>4600.000000</td>\n",
       "      <td>4600.000000</td>\n",
       "      <td>4600.000000</td>\n",
       "      <td>4.600000e+03</td>\n",
       "      <td>4600.000000</td>\n",
       "      <td>4600.000000</td>\n",
       "      <td>4600.000000</td>\n",
       "      <td>4600.000000</td>\n",
       "      <td>4600.000000</td>\n",
       "      <td>4600.000000</td>\n",
       "      <td>4600.000000</td>\n",
       "      <td>4600.000000</td>\n",
       "    </tr>\n",
       "    <tr>\n",
       "      <th>mean</th>\n",
       "      <td>5.519630e+05</td>\n",
       "      <td>3.400870</td>\n",
       "      <td>2.160815</td>\n",
       "      <td>2139.346957</td>\n",
       "      <td>1.485252e+04</td>\n",
       "      <td>1.512065</td>\n",
       "      <td>0.007174</td>\n",
       "      <td>0.240652</td>\n",
       "      <td>3.451739</td>\n",
       "      <td>1827.265435</td>\n",
       "      <td>312.081522</td>\n",
       "      <td>1970.786304</td>\n",
       "      <td>808.608261</td>\n",
       "    </tr>\n",
       "    <tr>\n",
       "      <th>std</th>\n",
       "      <td>5.638347e+05</td>\n",
       "      <td>0.908848</td>\n",
       "      <td>0.783781</td>\n",
       "      <td>963.206916</td>\n",
       "      <td>3.588444e+04</td>\n",
       "      <td>0.538288</td>\n",
       "      <td>0.084404</td>\n",
       "      <td>0.778405</td>\n",
       "      <td>0.677230</td>\n",
       "      <td>862.168977</td>\n",
       "      <td>464.137228</td>\n",
       "      <td>29.731848</td>\n",
       "      <td>979.414536</td>\n",
       "    </tr>\n",
       "    <tr>\n",
       "      <th>min</th>\n",
       "      <td>0.000000e+00</td>\n",
       "      <td>0.000000</td>\n",
       "      <td>0.000000</td>\n",
       "      <td>370.000000</td>\n",
       "      <td>6.380000e+02</td>\n",
       "      <td>1.000000</td>\n",
       "      <td>0.000000</td>\n",
       "      <td>0.000000</td>\n",
       "      <td>1.000000</td>\n",
       "      <td>370.000000</td>\n",
       "      <td>0.000000</td>\n",
       "      <td>1900.000000</td>\n",
       "      <td>0.000000</td>\n",
       "    </tr>\n",
       "    <tr>\n",
       "      <th>25%</th>\n",
       "      <td>3.228750e+05</td>\n",
       "      <td>3.000000</td>\n",
       "      <td>1.750000</td>\n",
       "      <td>1460.000000</td>\n",
       "      <td>5.000750e+03</td>\n",
       "      <td>1.000000</td>\n",
       "      <td>0.000000</td>\n",
       "      <td>0.000000</td>\n",
       "      <td>3.000000</td>\n",
       "      <td>1190.000000</td>\n",
       "      <td>0.000000</td>\n",
       "      <td>1951.000000</td>\n",
       "      <td>0.000000</td>\n",
       "    </tr>\n",
       "    <tr>\n",
       "      <th>50%</th>\n",
       "      <td>4.609435e+05</td>\n",
       "      <td>3.000000</td>\n",
       "      <td>2.250000</td>\n",
       "      <td>1980.000000</td>\n",
       "      <td>7.683000e+03</td>\n",
       "      <td>1.500000</td>\n",
       "      <td>0.000000</td>\n",
       "      <td>0.000000</td>\n",
       "      <td>3.000000</td>\n",
       "      <td>1590.000000</td>\n",
       "      <td>0.000000</td>\n",
       "      <td>1976.000000</td>\n",
       "      <td>0.000000</td>\n",
       "    </tr>\n",
       "    <tr>\n",
       "      <th>75%</th>\n",
       "      <td>6.549625e+05</td>\n",
       "      <td>4.000000</td>\n",
       "      <td>2.500000</td>\n",
       "      <td>2620.000000</td>\n",
       "      <td>1.100125e+04</td>\n",
       "      <td>2.000000</td>\n",
       "      <td>0.000000</td>\n",
       "      <td>0.000000</td>\n",
       "      <td>4.000000</td>\n",
       "      <td>2300.000000</td>\n",
       "      <td>610.000000</td>\n",
       "      <td>1997.000000</td>\n",
       "      <td>1999.000000</td>\n",
       "    </tr>\n",
       "    <tr>\n",
       "      <th>max</th>\n",
       "      <td>2.659000e+07</td>\n",
       "      <td>9.000000</td>\n",
       "      <td>8.000000</td>\n",
       "      <td>13540.000000</td>\n",
       "      <td>1.074218e+06</td>\n",
       "      <td>3.500000</td>\n",
       "      <td>1.000000</td>\n",
       "      <td>4.000000</td>\n",
       "      <td>5.000000</td>\n",
       "      <td>9410.000000</td>\n",
       "      <td>4820.000000</td>\n",
       "      <td>2014.000000</td>\n",
       "      <td>2014.000000</td>\n",
       "    </tr>\n",
       "  </tbody>\n",
       "</table>\n",
       "</div>"
      ],
      "text/plain": [
       "              price     bedrooms    bathrooms   sqft_living      sqft_lot  \\\n",
       "count  4.600000e+03  4600.000000  4600.000000   4600.000000  4.600000e+03   \n",
       "mean   5.519630e+05     3.400870     2.160815   2139.346957  1.485252e+04   \n",
       "std    5.638347e+05     0.908848     0.783781    963.206916  3.588444e+04   \n",
       "min    0.000000e+00     0.000000     0.000000    370.000000  6.380000e+02   \n",
       "25%    3.228750e+05     3.000000     1.750000   1460.000000  5.000750e+03   \n",
       "50%    4.609435e+05     3.000000     2.250000   1980.000000  7.683000e+03   \n",
       "75%    6.549625e+05     4.000000     2.500000   2620.000000  1.100125e+04   \n",
       "max    2.659000e+07     9.000000     8.000000  13540.000000  1.074218e+06   \n",
       "\n",
       "            floors   waterfront         view    condition   sqft_above  \\\n",
       "count  4600.000000  4600.000000  4600.000000  4600.000000  4600.000000   \n",
       "mean      1.512065     0.007174     0.240652     3.451739  1827.265435   \n",
       "std       0.538288     0.084404     0.778405     0.677230   862.168977   \n",
       "min       1.000000     0.000000     0.000000     1.000000   370.000000   \n",
       "25%       1.000000     0.000000     0.000000     3.000000  1190.000000   \n",
       "50%       1.500000     0.000000     0.000000     3.000000  1590.000000   \n",
       "75%       2.000000     0.000000     0.000000     4.000000  2300.000000   \n",
       "max       3.500000     1.000000     4.000000     5.000000  9410.000000   \n",
       "\n",
       "       sqft_basement     yr_built  yr_renovated  \n",
       "count    4600.000000  4600.000000   4600.000000  \n",
       "mean      312.081522  1970.786304    808.608261  \n",
       "std       464.137228    29.731848    979.414536  \n",
       "min         0.000000  1900.000000      0.000000  \n",
       "25%         0.000000  1951.000000      0.000000  \n",
       "50%         0.000000  1976.000000      0.000000  \n",
       "75%       610.000000  1997.000000   1999.000000  \n",
       "max      4820.000000  2014.000000   2014.000000  "
      ]
     },
     "execution_count": 6,
     "metadata": {},
     "output_type": "execute_result"
    }
   ],
   "source": [
    "data.describe()"
   ]
  },
  {
   "cell_type": "code",
   "execution_count": 7,
   "id": "390ba7c3",
   "metadata": {},
   "outputs": [
    {
     "data": {
      "text/plain": [
       "<AxesSubplot:>"
      ]
     },
     "execution_count": 7,
     "metadata": {},
     "output_type": "execute_result"
    },
    {
     "data": {
      "image/png": "[encoded data removed]",
      "text/plain": [
       "<Figure size 1152x360 with 2 Axes>"
      ]
     },
     "metadata": {},
     "output_type": "display_data"
    }
   ],
   "source": [
    "plt.figure(figsize=(16,5))\n",
    "corr_mat=data.corr()\n",
    "sns.heatmap(corr_mat,annot = True)"
   ]
  },
  {
   "cell_type": "code",
   "execution_count": 8,
   "id": "bd06fdfc",
   "metadata": {},
   "outputs": [],
   "source": [
    "import scipy.stats as st\n",
    "import pylab"
   ]
  },
  {
   "cell_type": "code",
   "execution_count": 9,
   "id": "c05d1e07",
   "metadata": {},
   "outputs": [
    {
     "data": {
      "text/plain": [
       "((array([-3.61414049, -3.37750595, -3.24701759, ...,  3.24701759,\n",
       "          3.37750595,  3.61414049]),\n",
       "  array([  370,   380,   420, ...,  9640, 10040, 13540], dtype=int64)),\n",
       " (915.1478605219629, 2139.3469565217392, 0.9495253688853059))"
      ]
     },
     "execution_count": 9,
     "metadata": {},
     "output_type": "execute_result"
    },
    {
     "data": {
      "image/png": "[encoded data removed]",
      "text/plain": [
       "<Figure size 432x288 with 1 Axes>"
      ]
     },
     "metadata": {},
     "output_type": "display_data"
    }
   ],
   "source": [
    "st.probplot(data.sqft_living,dist='norm',plot=pylab)"
   ]
  },
  {
   "cell_type": "code",
   "execution_count": 10,
   "id": "02294eea",
   "metadata": {},
   "outputs": [
    {
     "data": {
      "text/plain": [
       "(array([8.270696  , 9.6098173 , 8.75243442, ..., 9.34824287, 8.85847689,\n",
       "        8.41011451]),\n",
       " 0.03764210483442871)"
      ]
     },
     "execution_count": 10,
     "metadata": {},
     "output_type": "execute_result"
    }
   ],
   "source": [
    "z=st.boxcox(data.sqft_living)\n",
    "z"
   ]
  },
  {
   "cell_type": "code",
   "execution_count": 11,
   "id": "0a76a9a1",
   "metadata": {},
   "outputs": [
    {
     "data": {
      "text/plain": [
       "((array([-3.61414049, -3.37750595, -3.24701759, ...,  3.24701759,\n",
       "          3.37750595,  3.61414049]),\n",
       "  array([ 6.62334436,  6.65667817,  6.78207574, ..., 10.95679613,\n",
       "         11.01426414, 11.43972055])),\n",
       " (0.5717077402194961, 8.771814214314407, 0.9994437633991173))"
      ]
     },
     "execution_count": 11,
     "metadata": {},
     "output_type": "execute_result"
    },
    {
     "data": {
      "image/png": "[encoded data removed]",
      "text/plain": [
       "<Figure size 432x288 with 1 Axes>"
      ]
     },
     "metadata": {},
     "output_type": "display_data"
    }
   ],
   "source": [
    "st.probplot(z[0],dist='norm',plot=pylab)"
   ]
  },
  {
   "cell_type": "code",
   "execution_count": 12,
   "id": "9deee2ea",
   "metadata": {},
   "outputs": [],
   "source": [
    "data.pop('sqft_living')\n",
    "data.insert(4,'sqft_living',z[0])"
   ]
  },
  {
   "cell_type": "code",
   "execution_count": 13,
   "id": "e6bc3447",
   "metadata": {},
   "outputs": [],
   "source": [
    "x=data.price.round()"
   ]
  },
  {
   "cell_type": "code",
   "execution_count": 14,
   "id": "db52bc9c",
   "metadata": {},
   "outputs": [],
   "source": [
    "data.pop('price')\n",
    "data.insert(1,'price',x)"
   ]
  },
  {
   "cell_type": "code",
   "execution_count": 15,
   "id": "e1a71b5b",
   "metadata": {},
   "outputs": [
    {
     "data": {
      "text/html": [
       "<div>\n",
       "<style scoped>\n",
       "    .dataframe tbody tr th:only-of-type {\n",
       "        vertical-align: middle;\n",
       "    }\n",
       "\n",
       "    .dataframe tbody tr th {\n",
       "        vertical-align: top;\n",
       "    }\n",
       "\n",
       "    .dataframe thead th {\n",
       "        text-align: right;\n",
       "    }\n",
       "</style>\n",
       "<table border=\"1\" class=\"dataframe\">\n",
       "  <thead>\n",
       "    <tr style=\"text-align: right;\">\n",
       "      <th></th>\n",
       "      <th>date</th>\n",
       "      <th>price</th>\n",
       "      <th>bedrooms</th>\n",
       "      <th>bathrooms</th>\n",
       "      <th>sqft_living</th>\n",
       "      <th>sqft_lot</th>\n",
       "      <th>floors</th>\n",
       "      <th>waterfront</th>\n",
       "      <th>view</th>\n",
       "      <th>condition</th>\n",
       "      <th>sqft_above</th>\n",
       "      <th>sqft_basement</th>\n",
       "      <th>yr_built</th>\n",
       "      <th>yr_renovated</th>\n",
       "      <th>street</th>\n",
       "      <th>city</th>\n",
       "      <th>statezip</th>\n",
       "      <th>country</th>\n",
       "    </tr>\n",
       "  </thead>\n",
       "  <tbody>\n",
       "    <tr>\n",
       "      <th>0</th>\n",
       "      <td>2014-05-02 00:00:00</td>\n",
       "      <td>313000.0</td>\n",
       "      <td>3.0</td>\n",
       "      <td>1.50</td>\n",
       "      <td>8.270696</td>\n",
       "      <td>7912</td>\n",
       "      <td>1.5</td>\n",
       "      <td>0</td>\n",
       "      <td>0</td>\n",
       "      <td>3</td>\n",
       "      <td>1340</td>\n",
       "      <td>0</td>\n",
       "      <td>1955</td>\n",
       "      <td>2005</td>\n",
       "      <td>18810 Densmore Ave N</td>\n",
       "      <td>Shoreline</td>\n",
       "      <td>WA 98133</td>\n",
       "      <td>USA</td>\n",
       "    </tr>\n",
       "    <tr>\n",
       "      <th>1</th>\n",
       "      <td>2014-05-02 00:00:00</td>\n",
       "      <td>2384000.0</td>\n",
       "      <td>5.0</td>\n",
       "      <td>2.50</td>\n",
       "      <td>9.609817</td>\n",
       "      <td>9050</td>\n",
       "      <td>2.0</td>\n",
       "      <td>0</td>\n",
       "      <td>4</td>\n",
       "      <td>5</td>\n",
       "      <td>3370</td>\n",
       "      <td>280</td>\n",
       "      <td>1921</td>\n",
       "      <td>0</td>\n",
       "      <td>709 W Blaine St</td>\n",
       "      <td>Seattle</td>\n",
       "      <td>WA 98119</td>\n",
       "      <td>USA</td>\n",
       "    </tr>\n",
       "    <tr>\n",
       "      <th>2</th>\n",
       "      <td>2014-05-02 00:00:00</td>\n",
       "      <td>342000.0</td>\n",
       "      <td>3.0</td>\n",
       "      <td>2.00</td>\n",
       "      <td>8.752434</td>\n",
       "      <td>11947</td>\n",
       "      <td>1.0</td>\n",
       "      <td>0</td>\n",
       "      <td>0</td>\n",
       "      <td>4</td>\n",
       "      <td>1930</td>\n",
       "      <td>0</td>\n",
       "      <td>1966</td>\n",
       "      <td>0</td>\n",
       "      <td>26206-26214 143rd Ave SE</td>\n",
       "      <td>Kent</td>\n",
       "      <td>WA 98042</td>\n",
       "      <td>USA</td>\n",
       "    </tr>\n",
       "    <tr>\n",
       "      <th>3</th>\n",
       "      <td>2014-05-02 00:00:00</td>\n",
       "      <td>420000.0</td>\n",
       "      <td>3.0</td>\n",
       "      <td>2.25</td>\n",
       "      <td>8.799831</td>\n",
       "      <td>8030</td>\n",
       "      <td>1.0</td>\n",
       "      <td>0</td>\n",
       "      <td>0</td>\n",
       "      <td>4</td>\n",
       "      <td>1000</td>\n",
       "      <td>1000</td>\n",
       "      <td>1963</td>\n",
       "      <td>0</td>\n",
       "      <td>857 170th Pl NE</td>\n",
       "      <td>Bellevue</td>\n",
       "      <td>WA 98008</td>\n",
       "      <td>USA</td>\n",
       "    </tr>\n",
       "    <tr>\n",
       "      <th>4</th>\n",
       "      <td>2014-05-02 00:00:00</td>\n",
       "      <td>550000.0</td>\n",
       "      <td>4.0</td>\n",
       "      <td>2.50</td>\n",
       "      <td>8.759306</td>\n",
       "      <td>10500</td>\n",
       "      <td>1.0</td>\n",
       "      <td>0</td>\n",
       "      <td>0</td>\n",
       "      <td>4</td>\n",
       "      <td>1140</td>\n",
       "      <td>800</td>\n",
       "      <td>1976</td>\n",
       "      <td>1992</td>\n",
       "      <td>9105 170th Ave NE</td>\n",
       "      <td>Redmond</td>\n",
       "      <td>WA 98052</td>\n",
       "      <td>USA</td>\n",
       "    </tr>\n",
       "    <tr>\n",
       "      <th>...</th>\n",
       "      <td>...</td>\n",
       "      <td>...</td>\n",
       "      <td>...</td>\n",
       "      <td>...</td>\n",
       "      <td>...</td>\n",
       "      <td>...</td>\n",
       "      <td>...</td>\n",
       "      <td>...</td>\n",
       "      <td>...</td>\n",
       "      <td>...</td>\n",
       "      <td>...</td>\n",
       "      <td>...</td>\n",
       "      <td>...</td>\n",
       "      <td>...</td>\n",
       "      <td>...</td>\n",
       "      <td>...</td>\n",
       "      <td>...</td>\n",
       "      <td>...</td>\n",
       "    </tr>\n",
       "    <tr>\n",
       "      <th>4595</th>\n",
       "      <td>2014-07-09 00:00:00</td>\n",
       "      <td>308167.0</td>\n",
       "      <td>3.0</td>\n",
       "      <td>1.75</td>\n",
       "      <td>8.427673</td>\n",
       "      <td>6360</td>\n",
       "      <td>1.0</td>\n",
       "      <td>0</td>\n",
       "      <td>0</td>\n",
       "      <td>4</td>\n",
       "      <td>1510</td>\n",
       "      <td>0</td>\n",
       "      <td>1954</td>\n",
       "      <td>1979</td>\n",
       "      <td>501 N 143rd St</td>\n",
       "      <td>Seattle</td>\n",
       "      <td>WA 98133</td>\n",
       "      <td>USA</td>\n",
       "    </tr>\n",
       "    <tr>\n",
       "      <th>4596</th>\n",
       "      <td>2014-07-09 00:00:00</td>\n",
       "      <td>534333.0</td>\n",
       "      <td>3.0</td>\n",
       "      <td>2.50</td>\n",
       "      <td>8.383346</td>\n",
       "      <td>7573</td>\n",
       "      <td>2.0</td>\n",
       "      <td>0</td>\n",
       "      <td>0</td>\n",
       "      <td>3</td>\n",
       "      <td>1460</td>\n",
       "      <td>0</td>\n",
       "      <td>1983</td>\n",
       "      <td>2009</td>\n",
       "      <td>14855 SE 10th Pl</td>\n",
       "      <td>Bellevue</td>\n",
       "      <td>WA 98007</td>\n",
       "      <td>USA</td>\n",
       "    </tr>\n",
       "    <tr>\n",
       "      <th>4597</th>\n",
       "      <td>2014-07-09 00:00:00</td>\n",
       "      <td>416904.0</td>\n",
       "      <td>3.0</td>\n",
       "      <td>2.50</td>\n",
       "      <td>9.348243</td>\n",
       "      <td>7014</td>\n",
       "      <td>2.0</td>\n",
       "      <td>0</td>\n",
       "      <td>0</td>\n",
       "      <td>3</td>\n",
       "      <td>3010</td>\n",
       "      <td>0</td>\n",
       "      <td>2009</td>\n",
       "      <td>0</td>\n",
       "      <td>759 Ilwaco Pl NE</td>\n",
       "      <td>Renton</td>\n",
       "      <td>WA 98059</td>\n",
       "      <td>USA</td>\n",
       "    </tr>\n",
       "    <tr>\n",
       "      <th>4598</th>\n",
       "      <td>2014-07-10 00:00:00</td>\n",
       "      <td>203400.0</td>\n",
       "      <td>4.0</td>\n",
       "      <td>2.00</td>\n",
       "      <td>8.858477</td>\n",
       "      <td>6630</td>\n",
       "      <td>1.0</td>\n",
       "      <td>0</td>\n",
       "      <td>0</td>\n",
       "      <td>3</td>\n",
       "      <td>1070</td>\n",
       "      <td>1020</td>\n",
       "      <td>1974</td>\n",
       "      <td>0</td>\n",
       "      <td>5148 S Creston St</td>\n",
       "      <td>Seattle</td>\n",
       "      <td>WA 98178</td>\n",
       "      <td>USA</td>\n",
       "    </tr>\n",
       "    <tr>\n",
       "      <th>4599</th>\n",
       "      <td>2014-07-10 00:00:00</td>\n",
       "      <td>220600.0</td>\n",
       "      <td>3.0</td>\n",
       "      <td>2.50</td>\n",
       "      <td>8.410115</td>\n",
       "      <td>8102</td>\n",
       "      <td>2.0</td>\n",
       "      <td>0</td>\n",
       "      <td>0</td>\n",
       "      <td>4</td>\n",
       "      <td>1490</td>\n",
       "      <td>0</td>\n",
       "      <td>1990</td>\n",
       "      <td>0</td>\n",
       "      <td>18717 SE 258th St</td>\n",
       "      <td>Covington</td>\n",
       "      <td>WA 98042</td>\n",
       "      <td>USA</td>\n",
       "    </tr>\n",
       "  </tbody>\n",
       "</table>\n",
       "<p>4600 rows × 18 columns</p>\n",
       "</div>"
      ],
      "text/plain": [
       "                     date      price  bedrooms  bathrooms  sqft_living  \\\n",
       "0     2014-05-02 00:00:00   313000.0       3.0       1.50     8.270696   \n",
       "1     2014-05-02 00:00:00  2384000.0       5.0       2.50     9.609817   \n",
       "2     2014-05-02 00:00:00   342000.0       3.0       2.00     8.752434   \n",
       "3     2014-05-02 00:00:00   420000.0       3.0       2.25     8.799831   \n",
       "4     2014-05-02 00:00:00   550000.0       4.0       2.50     8.759306   \n",
       "...                   ...        ...       ...        ...          ...   \n",
       "4595  2014-07-09 00:00:00   308167.0       3.0       1.75     8.427673   \n",
       "4596  2014-07-09 00:00:00   534333.0       3.0       2.50     8.383346   \n",
       "4597  2014-07-09 00:00:00   416904.0       3.0       2.50     9.348243   \n",
       "4598  2014-07-10 00:00:00   203400.0       4.0       2.00     8.858477   \n",
       "4599  2014-07-10 00:00:00   220600.0       3.0       2.50     8.410115   \n",
       "\n",
       "      sqft_lot  floors  waterfront  view  condition  sqft_above  \\\n",
       "0         7912     1.5           0     0          3        1340   \n",
       "1         9050     2.0           0     4          5        3370   \n",
       "2        11947     1.0           0     0          4        1930   \n",
       "3         8030     1.0           0     0          4        1000   \n",
       "4        10500     1.0           0     0          4        1140   \n",
       "...        ...     ...         ...   ...        ...         ...   \n",
       "4595      6360     1.0           0     0          4        1510   \n",
       "4596      7573     2.0           0     0          3        1460   \n",
       "4597      7014     2.0           0     0          3        3010   \n",
       "4598      6630     1.0           0     0          3        1070   \n",
       "4599      8102     2.0           0     0          4        1490   \n",
       "\n",
       "      sqft_basement  yr_built  yr_renovated                    street  \\\n",
       "0                 0      1955          2005      18810 Densmore Ave N   \n",
       "1               280      1921             0           709 W Blaine St   \n",
       "2                 0      1966             0  26206-26214 143rd Ave SE   \n",
       "3              1000      1963             0           857 170th Pl NE   \n",
       "4               800      1976          1992         9105 170th Ave NE   \n",
       "...             ...       ...           ...                       ...   \n",
       "4595              0      1954          1979            501 N 143rd St   \n",
       "4596              0      1983          2009          14855 SE 10th Pl   \n",
       "4597              0      2009             0          759 Ilwaco Pl NE   \n",
       "4598           1020      1974             0         5148 S Creston St   \n",
       "4599              0      1990             0         18717 SE 258th St   \n",
       "\n",
       "           city  statezip country  \n",
       "0     Shoreline  WA 98133     USA  \n",
       "1       Seattle  WA 98119     USA  \n",
       "2          Kent  WA 98042     USA  \n",
       "3      Bellevue  WA 98008     USA  \n",
       "4       Redmond  WA 98052     USA  \n",
       "...         ...       ...     ...  \n",
       "4595    Seattle  WA 98133     USA  \n",
       "4596   Bellevue  WA 98007     USA  \n",
       "4597     Renton  WA 98059     USA  \n",
       "4598    Seattle  WA 98178     USA  \n",
       "4599  Covington  WA 98042     USA  \n",
       "\n",
       "[4600 rows x 18 columns]"
      ]
     },
     "execution_count": 15,
     "metadata": {},
     "output_type": "execute_result"
    }
   ],
   "source": [
    "data"
   ]
  },
  {
   "cell_type": "code",
   "execution_count": 16,
   "id": "55173e87",
   "metadata": {},
   "outputs": [
    {
     "data": {
      "text/plain": [
       "price            24.790933\n",
       "bedrooms          0.456447\n",
       "bathrooms         0.616033\n",
       "sqft_living       0.000303\n",
       "sqft_lot         11.307139\n",
       "floors            0.551441\n",
       "waterfront       11.682901\n",
       "view              3.341586\n",
       "condition         0.959068\n",
       "sqft_above        1.494211\n",
       "sqft_basement     1.642732\n",
       "yr_built         -0.502155\n",
       "yr_renovated      0.385919\n",
       "dtype: float64"
      ]
     },
     "execution_count": 16,
     "metadata": {},
     "output_type": "execute_result"
    }
   ],
   "source": [
    "data.skew(axis=0)"
   ]
  },
  {
   "cell_type": "code",
   "execution_count": 17,
   "id": "c1bcf689",
   "metadata": {},
   "outputs": [
    {
     "data": {
      "text/plain": [
       "((array([-3.61414049, -3.37750595, -3.24701759, ...,  3.24701759,\n",
       "          3.37750595,  3.61414049]),\n",
       "  array([       0.,        0.,        0., ...,  7062500., 12899000.,\n",
       "         26590000.])),\n",
       " (346661.39057952166, 551962.9889130435, 0.6144528585474082))"
      ]
     },
     "execution_count": 17,
     "metadata": {},
     "output_type": "execute_result"
    },
    {
     "data": {
      "image/png": "[encoded data removed]",
      "text/plain": [
       "<Figure size 432x288 with 1 Axes>"
      ]
     },
     "metadata": {},
     "output_type": "display_data"
    }
   ],
   "source": [
    "st.probplot(data['price'],dist='norm',plot=pylab)"
   ]
  },
  {
   "cell_type": "code",
   "execution_count": 18,
   "id": "5db7c454",
   "metadata": {},
   "outputs": [
    {
     "data": {
      "text/plain": [
       "0.0"
      ]
     },
     "execution_count": 18,
     "metadata": {},
     "output_type": "execute_result"
    }
   ],
   "source": [
    "data['price'].min()"
   ]
  },
  {
   "cell_type": "code",
   "execution_count": 19,
   "id": "fe486542",
   "metadata": {},
   "outputs": [
    {
     "data": {
      "text/plain": [
       "460943.5"
      ]
     },
     "execution_count": 19,
     "metadata": {},
     "output_type": "execute_result"
    }
   ],
   "source": [
    "data['price'].median()"
   ]
  },
  {
   "cell_type": "code",
   "execution_count": 20,
   "id": "d6f0fddf",
   "metadata": {},
   "outputs": [],
   "source": [
    "data['price'] = data['price'].map( lambda x : data.price.median() if x == 0 else x)"
   ]
  },
  {
   "cell_type": "code",
   "execution_count": 21,
   "id": "2e0250b9",
   "metadata": {},
   "outputs": [
    {
     "data": {
      "text/html": [
       "<div>\n",
       "<style scoped>\n",
       "    .dataframe tbody tr th:only-of-type {\n",
       "        vertical-align: middle;\n",
       "    }\n",
       "\n",
       "    .dataframe tbody tr th {\n",
       "        vertical-align: top;\n",
       "    }\n",
       "\n",
       "    .dataframe thead th {\n",
       "        text-align: right;\n",
       "    }\n",
       "</style>\n",
       "<table border=\"1\" class=\"dataframe\">\n",
       "  <thead>\n",
       "    <tr style=\"text-align: right;\">\n",
       "      <th></th>\n",
       "      <th>date</th>\n",
       "      <th>price</th>\n",
       "      <th>bedrooms</th>\n",
       "      <th>bathrooms</th>\n",
       "      <th>sqft_living</th>\n",
       "      <th>sqft_lot</th>\n",
       "      <th>floors</th>\n",
       "      <th>waterfront</th>\n",
       "      <th>view</th>\n",
       "      <th>condition</th>\n",
       "      <th>sqft_above</th>\n",
       "      <th>sqft_basement</th>\n",
       "      <th>yr_built</th>\n",
       "      <th>yr_renovated</th>\n",
       "      <th>street</th>\n",
       "      <th>city</th>\n",
       "      <th>statezip</th>\n",
       "      <th>country</th>\n",
       "    </tr>\n",
       "  </thead>\n",
       "  <tbody>\n",
       "    <tr>\n",
       "      <th>0</th>\n",
       "      <td>2014-05-02 00:00:00</td>\n",
       "      <td>313000.0</td>\n",
       "      <td>3.0</td>\n",
       "      <td>1.50</td>\n",
       "      <td>8.270696</td>\n",
       "      <td>7912</td>\n",
       "      <td>1.5</td>\n",
       "      <td>0</td>\n",
       "      <td>0</td>\n",
       "      <td>3</td>\n",
       "      <td>1340</td>\n",
       "      <td>0</td>\n",
       "      <td>1955</td>\n",
       "      <td>2005</td>\n",
       "      <td>18810 Densmore Ave N</td>\n",
       "      <td>Shoreline</td>\n",
       "      <td>WA 98133</td>\n",
       "      <td>USA</td>\n",
       "    </tr>\n",
       "    <tr>\n",
       "      <th>1</th>\n",
       "      <td>2014-05-02 00:00:00</td>\n",
       "      <td>2384000.0</td>\n",
       "      <td>5.0</td>\n",
       "      <td>2.50</td>\n",
       "      <td>9.609817</td>\n",
       "      <td>9050</td>\n",
       "      <td>2.0</td>\n",
       "      <td>0</td>\n",
       "      <td>4</td>\n",
       "      <td>5</td>\n",
       "      <td>3370</td>\n",
       "      <td>280</td>\n",
       "      <td>1921</td>\n",
       "      <td>0</td>\n",
       "      <td>709 W Blaine St</td>\n",
       "      <td>Seattle</td>\n",
       "      <td>WA 98119</td>\n",
       "      <td>USA</td>\n",
       "    </tr>\n",
       "    <tr>\n",
       "      <th>2</th>\n",
       "      <td>2014-05-02 00:00:00</td>\n",
       "      <td>342000.0</td>\n",
       "      <td>3.0</td>\n",
       "      <td>2.00</td>\n",
       "      <td>8.752434</td>\n",
       "      <td>11947</td>\n",
       "      <td>1.0</td>\n",
       "      <td>0</td>\n",
       "      <td>0</td>\n",
       "      <td>4</td>\n",
       "      <td>1930</td>\n",
       "      <td>0</td>\n",
       "      <td>1966</td>\n",
       "      <td>0</td>\n",
       "      <td>26206-26214 143rd Ave SE</td>\n",
       "      <td>Kent</td>\n",
       "      <td>WA 98042</td>\n",
       "      <td>USA</td>\n",
       "    </tr>\n",
       "    <tr>\n",
       "      <th>3</th>\n",
       "      <td>2014-05-02 00:00:00</td>\n",
       "      <td>420000.0</td>\n",
       "      <td>3.0</td>\n",
       "      <td>2.25</td>\n",
       "      <td>8.799831</td>\n",
       "      <td>8030</td>\n",
       "      <td>1.0</td>\n",
       "      <td>0</td>\n",
       "      <td>0</td>\n",
       "      <td>4</td>\n",
       "      <td>1000</td>\n",
       "      <td>1000</td>\n",
       "      <td>1963</td>\n",
       "      <td>0</td>\n",
       "      <td>857 170th Pl NE</td>\n",
       "      <td>Bellevue</td>\n",
       "      <td>WA 98008</td>\n",
       "      <td>USA</td>\n",
       "    </tr>\n",
       "    <tr>\n",
       "      <th>4</th>\n",
       "      <td>2014-05-02 00:00:00</td>\n",
       "      <td>550000.0</td>\n",
       "      <td>4.0</td>\n",
       "      <td>2.50</td>\n",
       "      <td>8.759306</td>\n",
       "      <td>10500</td>\n",
       "      <td>1.0</td>\n",
       "      <td>0</td>\n",
       "      <td>0</td>\n",
       "      <td>4</td>\n",
       "      <td>1140</td>\n",
       "      <td>800</td>\n",
       "      <td>1976</td>\n",
       "      <td>1992</td>\n",
       "      <td>9105 170th Ave NE</td>\n",
       "      <td>Redmond</td>\n",
       "      <td>WA 98052</td>\n",
       "      <td>USA</td>\n",
       "    </tr>\n",
       "    <tr>\n",
       "      <th>...</th>\n",
       "      <td>...</td>\n",
       "      <td>...</td>\n",
       "      <td>...</td>\n",
       "      <td>...</td>\n",
       "      <td>...</td>\n",
       "      <td>...</td>\n",
       "      <td>...</td>\n",
       "      <td>...</td>\n",
       "      <td>...</td>\n",
       "      <td>...</td>\n",
       "      <td>...</td>\n",
       "      <td>...</td>\n",
       "      <td>...</td>\n",
       "      <td>...</td>\n",
       "      <td>...</td>\n",
       "      <td>...</td>\n",
       "      <td>...</td>\n",
       "      <td>...</td>\n",
       "    </tr>\n",
       "    <tr>\n",
       "      <th>4595</th>\n",
       "      <td>2014-07-09 00:00:00</td>\n",
       "      <td>308167.0</td>\n",
       "      <td>3.0</td>\n",
       "      <td>1.75</td>\n",
       "      <td>8.427673</td>\n",
       "      <td>6360</td>\n",
       "      <td>1.0</td>\n",
       "      <td>0</td>\n",
       "      <td>0</td>\n",
       "      <td>4</td>\n",
       "      <td>1510</td>\n",
       "      <td>0</td>\n",
       "      <td>1954</td>\n",
       "      <td>1979</td>\n",
       "      <td>501 N 143rd St</td>\n",
       "      <td>Seattle</td>\n",
       "      <td>WA 98133</td>\n",
       "      <td>USA</td>\n",
       "    </tr>\n",
       "    <tr>\n",
       "      <th>4596</th>\n",
       "      <td>2014-07-09 00:00:00</td>\n",
       "      <td>534333.0</td>\n",
       "      <td>3.0</td>\n",
       "      <td>2.50</td>\n",
       "      <td>8.383346</td>\n",
       "      <td>7573</td>\n",
       "      <td>2.0</td>\n",
       "      <td>0</td>\n",
       "      <td>0</td>\n",
       "      <td>3</td>\n",
       "      <td>1460</td>\n",
       "      <td>0</td>\n",
       "      <td>1983</td>\n",
       "      <td>2009</td>\n",
       "      <td>14855 SE 10th Pl</td>\n",
       "      <td>Bellevue</td>\n",
       "      <td>WA 98007</td>\n",
       "      <td>USA</td>\n",
       "    </tr>\n",
       "    <tr>\n",
       "      <th>4597</th>\n",
       "      <td>2014-07-09 00:00:00</td>\n",
       "      <td>416904.0</td>\n",
       "      <td>3.0</td>\n",
       "      <td>2.50</td>\n",
       "      <td>9.348243</td>\n",
       "      <td>7014</td>\n",
       "      <td>2.0</td>\n",
       "      <td>0</td>\n",
       "      <td>0</td>\n",
       "      <td>3</td>\n",
       "      <td>3010</td>\n",
       "      <td>0</td>\n",
       "      <td>2009</td>\n",
       "      <td>0</td>\n",
       "      <td>759 Ilwaco Pl NE</td>\n",
       "      <td>Renton</td>\n",
       "      <td>WA 98059</td>\n",
       "      <td>USA</td>\n",
       "    </tr>\n",
       "    <tr>\n",
       "      <th>4598</th>\n",
       "      <td>2014-07-10 00:00:00</td>\n",
       "      <td>203400.0</td>\n",
       "      <td>4.0</td>\n",
       "      <td>2.00</td>\n",
       "      <td>8.858477</td>\n",
       "      <td>6630</td>\n",
       "      <td>1.0</td>\n",
       "      <td>0</td>\n",
       "      <td>0</td>\n",
       "      <td>3</td>\n",
       "      <td>1070</td>\n",
       "      <td>1020</td>\n",
       "      <td>1974</td>\n",
       "      <td>0</td>\n",
       "      <td>5148 S Creston St</td>\n",
       "      <td>Seattle</td>\n",
       "      <td>WA 98178</td>\n",
       "      <td>USA</td>\n",
       "    </tr>\n",
       "    <tr>\n",
       "      <th>4599</th>\n",
       "      <td>2014-07-10 00:00:00</td>\n",
       "      <td>220600.0</td>\n",
       "      <td>3.0</td>\n",
       "      <td>2.50</td>\n",
       "      <td>8.410115</td>\n",
       "      <td>8102</td>\n",
       "      <td>2.0</td>\n",
       "      <td>0</td>\n",
       "      <td>0</td>\n",
       "      <td>4</td>\n",
       "      <td>1490</td>\n",
       "      <td>0</td>\n",
       "      <td>1990</td>\n",
       "      <td>0</td>\n",
       "      <td>18717 SE 258th St</td>\n",
       "      <td>Covington</td>\n",
       "      <td>WA 98042</td>\n",
       "      <td>USA</td>\n",
       "    </tr>\n",
       "  </tbody>\n",
       "</table>\n",
       "<p>4600 rows × 18 columns</p>\n",
       "</div>"
      ],
      "text/plain": [
       "                     date      price  bedrooms  bathrooms  sqft_living  \\\n",
       "0     2014-05-02 00:00:00   313000.0       3.0       1.50     8.270696   \n",
       "1     2014-05-02 00:00:00  2384000.0       5.0       2.50     9.609817   \n",
       "2     2014-05-02 00:00:00   342000.0       3.0       2.00     8.752434   \n",
       "3     2014-05-02 00:00:00   420000.0       3.0       2.25     8.799831   \n",
       "4     2014-05-02 00:00:00   550000.0       4.0       2.50     8.759306   \n",
       "...                   ...        ...       ...        ...          ...   \n",
       "4595  2014-07-09 00:00:00   308167.0       3.0       1.75     8.427673   \n",
       "4596  2014-07-09 00:00:00   534333.0       3.0       2.50     8.383346   \n",
       "4597  2014-07-09 00:00:00   416904.0       3.0       2.50     9.348243   \n",
       "4598  2014-07-10 00:00:00   203400.0       4.0       2.00     8.858477   \n",
       "4599  2014-07-10 00:00:00   220600.0       3.0       2.50     8.410115   \n",
       "\n",
       "      sqft_lot  floors  waterfront  view  condition  sqft_above  \\\n",
       "0         7912     1.5           0     0          3        1340   \n",
       "1         9050     2.0           0     4          5        3370   \n",
       "2        11947     1.0           0     0          4        1930   \n",
       "3         8030     1.0           0     0          4        1000   \n",
       "4        10500     1.0           0     0          4        1140   \n",
       "...        ...     ...         ...   ...        ...         ...   \n",
       "4595      6360     1.0           0     0          4        1510   \n",
       "4596      7573     2.0           0     0          3        1460   \n",
       "4597      7014     2.0           0     0          3        3010   \n",
       "4598      6630     1.0           0     0          3        1070   \n",
       "4599      8102     2.0           0     0          4        1490   \n",
       "\n",
       "      sqft_basement  yr_built  yr_renovated                    street  \\\n",
       "0                 0      1955          2005      18810 Densmore Ave N   \n",
       "1               280      1921             0           709 W Blaine St   \n",
       "2                 0      1966             0  26206-26214 143rd Ave SE   \n",
       "3              1000      1963             0           857 170th Pl NE   \n",
       "4               800      1976          1992         9105 170th Ave NE   \n",
       "...             ...       ...           ...                       ...   \n",
       "4595              0      1954          1979            501 N 143rd St   \n",
       "4596              0      1983          2009          14855 SE 10th Pl   \n",
       "4597              0      2009             0          759 Ilwaco Pl NE   \n",
       "4598           1020      1974             0         5148 S Creston St   \n",
       "4599              0      1990             0         18717 SE 258th St   \n",
       "\n",
       "           city  statezip country  \n",
       "0     Shoreline  WA 98133     USA  \n",
       "1       Seattle  WA 98119     USA  \n",
       "2          Kent  WA 98042     USA  \n",
       "3      Bellevue  WA 98008     USA  \n",
       "4       Redmond  WA 98052     USA  \n",
       "...         ...       ...     ...  \n",
       "4595    Seattle  WA 98133     USA  \n",
       "4596   Bellevue  WA 98007     USA  \n",
       "4597     Renton  WA 98059     USA  \n",
       "4598    Seattle  WA 98178     USA  \n",
       "4599  Covington  WA 98042     USA  \n",
       "\n",
       "[4600 rows x 18 columns]"
      ]
     },
     "execution_count": 21,
     "metadata": {},
     "output_type": "execute_result"
    }
   ],
   "source": [
    "data"
   ]
  },
  {
   "cell_type": "code",
   "execution_count": 22,
   "id": "24dce14a",
   "metadata": {},
   "outputs": [
    {
     "data": {
      "text/plain": [
       "7800.0"
      ]
     },
     "execution_count": 22,
     "metadata": {},
     "output_type": "execute_result"
    }
   ],
   "source": [
    "data.price.min()"
   ]
  },
  {
   "cell_type": "code",
   "execution_count": 23,
   "id": "a4934baa",
   "metadata": {},
   "outputs": [
    {
     "data": {
      "text/plain": [
       "((array([-3.61414049, -3.37750595, -3.24701759, ...,  3.24701759,\n",
       "          3.37750595,  3.61414049]),\n",
       "  array([7.8000e+03, 8.0000e+04, 8.3000e+04, ..., 7.0625e+06, 1.2899e+07,\n",
       "         2.6590e+07])),\n",
       " (339658.4187580899, 556873.0392391304, 0.6050758214190447))"
      ]
     },
     "execution_count": 23,
     "metadata": {},
     "output_type": "execute_result"
    },
    {
     "data": {
      "image/png": "[encoded data removed]",
      "text/plain": [
       "<Figure size 432x288 with 1 Axes>"
      ]
     },
     "metadata": {},
     "output_type": "display_data"
    }
   ],
   "source": [
    "st.probplot(data['price'],dist='norm',plot=pylab)"
   ]
  },
  {
   "cell_type": "code",
   "execution_count": 24,
   "id": "08d5e4a9",
   "metadata": {},
   "outputs": [
    {
     "name": "stdout",
     "output_type": "stream",
     "text": [
      "(array([6.7043606 , 7.133674  , 6.72523962, ..., 6.77115156, 6.59973644,\n",
      "       6.61983489]), -0.11383260237751598)\n"
     ]
    },
    {
     "data": {
      "text/plain": [
       "((array([-3.61414049, -3.37750595, -3.24701759, ...,  3.24701759,\n",
       "          3.37750595,  3.61414049]),\n",
       "  array([5.61755224, 6.35485426, 6.36501608, ..., 7.32568407, 7.42238053,\n",
       "         7.53007623])),\n",
       " (0.12062862139633432, 6.795668167360162, 0.9930875296396058))"
      ]
     },
     "execution_count": 24,
     "metadata": {},
     "output_type": "execute_result"
    },
    {
     "data": {
      "image/png": "[encoded data removed]",
      "text/plain": [
       "<Figure size 432x288 with 1 Axes>"
      ]
     },
     "metadata": {},
     "output_type": "display_data"
    }
   ],
   "source": [
    "p=st.boxcox(data['price'])\n",
    "print(p)\n",
    "st.probplot(p[0],dist='norm',plot=pylab)\n"
   ]
  },
  {
   "cell_type": "code",
   "execution_count": 25,
   "id": "cdad05c7",
   "metadata": {},
   "outputs": [
    {
     "name": "stderr",
     "output_type": "stream",
     "text": [
      "C:\\Users\\USER\\anaconda3\\lib\\site-packages\\seaborn\\distributions.py:2557: FutureWarning: `distplot` is a deprecated function and will be removed in a future version. Please adapt your code to use either `displot` (a figure-level function with similar flexibility) or `histplot` (an axes-level function for histograms).\n",
      "  warnings.warn(msg, FutureWarning)\n"
     ]
    },
    {
     "data": {
      "text/plain": [
       "<AxesSubplot:xlabel='price', ylabel='Density'>"
      ]
     },
     "execution_count": 25,
     "metadata": {},
     "output_type": "execute_result"
    },
    {
     "data": {
      "image/png": "[encoded data removed]",
      "text/plain": [
       "<Figure size 432x288 with 1 Axes>"
      ]
     },
     "metadata": {},
     "output_type": "display_data"
    }
   ],
   "source": [
    "sns.distplot(data.price)"
   ]
  },
  {
   "cell_type": "code",
   "execution_count": 26,
   "id": "1dcd9a1f",
   "metadata": {},
   "outputs": [],
   "source": [
    "data.pop('price')\n",
    "data.insert(1,'price',p[0])"
   ]
  },
  {
   "cell_type": "code",
   "execution_count": 27,
   "id": "1343131f",
   "metadata": {},
   "outputs": [
    {
     "data": {
      "text/plain": [
       "price            -0.047112\n",
       "bedrooms          0.456447\n",
       "bathrooms         0.616033\n",
       "sqft_living       0.000303\n",
       "sqft_lot         11.307139\n",
       "floors            0.551441\n",
       "waterfront       11.682901\n",
       "view              3.341586\n",
       "condition         0.959068\n",
       "sqft_above        1.494211\n",
       "sqft_basement     1.642732\n",
       "yr_built         -0.502155\n",
       "yr_renovated      0.385919\n",
       "dtype: float64"
      ]
     },
     "execution_count": 27,
     "metadata": {},
     "output_type": "execute_result"
    }
   ],
   "source": [
    "data.skew(axis=0)"
   ]
  },
  {
   "cell_type": "code",
   "execution_count": 28,
   "id": "d33493de",
   "metadata": {},
   "outputs": [
    {
     "data": {
      "text/plain": [
       "((array([-3.61414049, -3.37750595, -3.24701759, ...,  3.24701759,\n",
       "          3.37750595,  3.61414049]),\n",
       "  array([    638,     681,     704, ...,  478288,  641203, 1074218],\n",
       "        dtype=int64)),\n",
       " (18761.607149992768, 14852.51608695652, 0.5225150541036659))"
      ]
     },
     "execution_count": 28,
     "metadata": {},
     "output_type": "execute_result"
    },
    {
     "data": {
      "image/png": "[encoded data removed]",
      "text/plain": [
       "<Figure size 432x288 with 1 Axes>"
      ]
     },
     "metadata": {},
     "output_type": "display_data"
    }
   ],
   "source": [
    "st.probplot(data['sqft_lot'],dist='norm',plot=pylab)"
   ]
  },
  {
   "cell_type": "code",
   "execution_count": 29,
   "id": "2fd685e6",
   "metadata": {},
   "outputs": [
    {
     "name": "stdout",
     "output_type": "stream",
     "text": [
      "(array([4.41720332, 4.44304386, 4.49448066, ..., 4.39349346, 4.38223271,\n",
      "       4.42181255]), -0.18232037149263566)\n"
     ]
    },
    {
     "data": {
      "text/plain": [
       "((array([-3.61414049, -3.37750595, -3.24701759, ...,  3.24701759,\n",
       "          3.37750595,  3.61414049]),\n",
       "  array([3.79523133, 3.81520473, 3.82528549, ..., 4.97944308, 5.00574504,\n",
       "         5.04876295])),\n",
       " (0.16688063343274032, 4.408104656008597, 0.9781338314654394))"
      ]
     },
     "execution_count": 29,
     "metadata": {},
     "output_type": "execute_result"
    },
    {
     "data": {
      "image/png": "[encoded data removed]",
      "text/plain": [
       "<Figure size 432x288 with 1 Axes>"
      ]
     },
     "metadata": {},
     "output_type": "display_data"
    }
   ],
   "source": [
    "q=st.boxcox(data['sqft_lot'])\n",
    "print(q)\n",
    "st.probplot(q[0],dist='norm',plot=pylab)"
   ]
  },
  {
   "cell_type": "code",
   "execution_count": 30,
   "id": "bd4d3380",
   "metadata": {},
   "outputs": [],
   "source": [
    "data.pop('sqft_lot')\n",
    "data.insert(5,'sqft_lot',q[0])"
   ]
  },
  {
   "cell_type": "code",
   "execution_count": 31,
   "id": "de0afed0",
   "metadata": {},
   "outputs": [
    {
     "data": {
      "text/plain": [
       "((array([-3.61414049, -3.37750595, -3.24701759, ...,  3.24701759,\n",
       "          3.37750595,  3.61414049]),\n",
       "  array([1. , 1. , 1. , ..., 3. , 3.5, 3.5])),\n",
       " (0.46962598615252443, 1.5120652173913043, 0.8719107119112202))"
      ]
     },
     "execution_count": 31,
     "metadata": {},
     "output_type": "execute_result"
    },
    {
     "data": {
      "image/png": "[encoded data removed]",
      "text/plain": [
       "<Figure size 432x288 with 1 Axes>"
      ]
     },
     "metadata": {},
     "output_type": "display_data"
    }
   ],
   "source": [
    "st.probplot(data.floors,dist='norm',plot=pylab)"
   ]
  },
  {
   "cell_type": "code",
   "execution_count": 32,
   "id": "73249a2e",
   "metadata": {},
   "outputs": [
    {
     "name": "stdout",
     "output_type": "stream",
     "text": [
      "(array([0.36523284, 0.58107621, 0.        , ..., 0.58107621, 0.        ,\n",
      "       0.58107621]), -0.5247571411403124)\n"
     ]
    },
    {
     "data": {
      "text/plain": [
       "((array([-3.61414049, -3.37750595, -3.24701759, ...,  3.24701759,\n",
       "          3.37750595,  3.61414049]),\n",
       "  array([0.        , 0.        , 0.        , ..., 0.83494083, 0.91814128,\n",
       "         0.91814128])),\n",
       " (0.24939515221435912, 0.2941361324771878, 0.8610460307051956))"
      ]
     },
     "execution_count": 32,
     "metadata": {},
     "output_type": "execute_result"
    },
    {
     "data": {
      "image/png": "[encoded data removed]",
      "text/plain": [
       "<Figure size 432x288 with 1 Axes>"
      ]
     },
     "metadata": {},
     "output_type": "display_data"
    }
   ],
   "source": [
    "w=st.boxcox(data['floors'])\n",
    "print(w)\n",
    "st.probplot(w[0],dist='norm',plot=pylab)"
   ]
  },
  {
   "cell_type": "code",
   "execution_count": 33,
   "id": "57b4309d",
   "metadata": {},
   "outputs": [],
   "source": [
    "data.pop('floors')\n",
    "data.insert(6,'floors',w[0])"
   ]
  },
  {
   "cell_type": "code",
   "execution_count": 34,
   "id": "31a7db49",
   "metadata": {},
   "outputs": [
    {
     "data": {
      "text/plain": [
       "0.10480134982379963"
      ]
     },
     "execution_count": 34,
     "metadata": {},
     "output_type": "execute_result"
    }
   ],
   "source": [
    "st.skew(data.floors)"
   ]
  },
  {
   "cell_type": "code",
   "execution_count": 35,
   "id": "39976971",
   "metadata": {},
   "outputs": [
    {
     "data": {
      "text/plain": [
       "0.10480134982379963"
      ]
     },
     "execution_count": 35,
     "metadata": {},
     "output_type": "execute_result"
    }
   ],
   "source": [
    "st.skew(w[0])"
   ]
  },
  {
   "cell_type": "code",
   "execution_count": 36,
   "id": "97f1306d",
   "metadata": {},
   "outputs": [
    {
     "data": {
      "text/plain": [
       "((array([-3.61414049, -3.37750595, -3.24701759, ...,  3.24701759,\n",
       "          3.37750595,  3.61414049]),\n",
       "  array([ 370,  380,  420, ..., 7680, 8020, 9410], dtype=int64)),\n",
       " (814.2782728314147, 1827.2654347826087, 0.9438768855845321))"
      ]
     },
     "execution_count": 36,
     "metadata": {},
     "output_type": "execute_result"
    },
    {
     "data": {
      "image/png": "[encoded data removed]",
      "text/plain": [
       "<Figure size 432x288 with 1 Axes>"
      ]
     },
     "metadata": {},
     "output_type": "display_data"
    }
   ],
   "source": [
    "st.probplot(data.sqft_above,dist='norm',plot=pylab)"
   ]
  },
  {
   "cell_type": "code",
   "execution_count": 37,
   "id": "3dcf314b",
   "metadata": {},
   "outputs": [
    {
     "data": {
      "text/plain": [
       "((array([-3.61414049, -3.37750595, -3.24701759, ...,  3.24701759,\n",
       "          3.37750595,  3.61414049]),\n",
       "  array([3.25987633, 3.26685113, 3.29265471, ..., 3.83553159, 3.84122458,\n",
       "         3.86175382])),\n",
       " (0.08079623043171048, 3.5894148061182958, 0.997026836919605))"
      ]
     },
     "execution_count": 37,
     "metadata": {},
     "output_type": "execute_result"
    },
    {
     "data": {
      "image/png": "[encoded data removed]",
      "text/plain": [
       "<Figure size 432x288 with 1 Axes>"
      ]
     },
     "metadata": {},
     "output_type": "display_data"
    }
   ],
   "source": [
    "x=st.boxcox(data.sqft_above)\n",
    "x\n",
    "st.probplot(x[0],dist='norm',plot=pylab)"
   ]
  },
  {
   "cell_type": "code",
   "execution_count": 38,
   "id": "f4b6c715",
   "metadata": {},
   "outputs": [],
   "source": [
    "data.pop('sqft_above')\n",
    "data.insert(10,'sqft_above',x[0])"
   ]
  },
  {
   "cell_type": "code",
   "execution_count": 39,
   "id": "e21332c3",
   "metadata": {},
   "outputs": [
    {
     "data": {
      "text/html": [
       "<div>\n",
       "<style scoped>\n",
       "    .dataframe tbody tr th:only-of-type {\n",
       "        vertical-align: middle;\n",
       "    }\n",
       "\n",
       "    .dataframe tbody tr th {\n",
       "        vertical-align: top;\n",
       "    }\n",
       "\n",
       "    .dataframe thead th {\n",
       "        text-align: right;\n",
       "    }\n",
       "</style>\n",
       "<table border=\"1\" class=\"dataframe\">\n",
       "  <thead>\n",
       "    <tr style=\"text-align: right;\">\n",
       "      <th></th>\n",
       "      <th>date</th>\n",
       "      <th>price</th>\n",
       "      <th>bedrooms</th>\n",
       "      <th>bathrooms</th>\n",
       "      <th>sqft_living</th>\n",
       "      <th>sqft_lot</th>\n",
       "      <th>floors</th>\n",
       "      <th>waterfront</th>\n",
       "      <th>view</th>\n",
       "      <th>condition</th>\n",
       "      <th>sqft_above</th>\n",
       "      <th>sqft_basement</th>\n",
       "      <th>yr_built</th>\n",
       "      <th>yr_renovated</th>\n",
       "      <th>street</th>\n",
       "      <th>city</th>\n",
       "      <th>statezip</th>\n",
       "      <th>country</th>\n",
       "    </tr>\n",
       "  </thead>\n",
       "  <tbody>\n",
       "    <tr>\n",
       "      <th>0</th>\n",
       "      <td>2014-05-02 00:00:00</td>\n",
       "      <td>6.704361</td>\n",
       "      <td>3.0</td>\n",
       "      <td>1.50</td>\n",
       "      <td>8.270696</td>\n",
       "      <td>4.417203</td>\n",
       "      <td>0.365233</td>\n",
       "      <td>0</td>\n",
       "      <td>0</td>\n",
       "      <td>3</td>\n",
       "      <td>3.552761</td>\n",
       "      <td>0</td>\n",
       "      <td>1955</td>\n",
       "      <td>2005</td>\n",
       "      <td>18810 Densmore Ave N</td>\n",
       "      <td>Shoreline</td>\n",
       "      <td>WA 98133</td>\n",
       "      <td>USA</td>\n",
       "    </tr>\n",
       "    <tr>\n",
       "      <th>1</th>\n",
       "      <td>2014-05-02 00:00:00</td>\n",
       "      <td>7.133674</td>\n",
       "      <td>5.0</td>\n",
       "      <td>2.50</td>\n",
       "      <td>9.609817</td>\n",
       "      <td>4.443044</td>\n",
       "      <td>0.581076</td>\n",
       "      <td>0</td>\n",
       "      <td>4</td>\n",
       "      <td>5</td>\n",
       "      <td>3.715950</td>\n",
       "      <td>280</td>\n",
       "      <td>1921</td>\n",
       "      <td>0</td>\n",
       "      <td>709 W Blaine St</td>\n",
       "      <td>Seattle</td>\n",
       "      <td>WA 98119</td>\n",
       "      <td>USA</td>\n",
       "    </tr>\n",
       "    <tr>\n",
       "      <th>2</th>\n",
       "      <td>2014-05-02 00:00:00</td>\n",
       "      <td>6.725240</td>\n",
       "      <td>3.0</td>\n",
       "      <td>2.00</td>\n",
       "      <td>8.752434</td>\n",
       "      <td>4.494481</td>\n",
       "      <td>0.000000</td>\n",
       "      <td>0</td>\n",
       "      <td>0</td>\n",
       "      <td>4</td>\n",
       "      <td>3.621418</td>\n",
       "      <td>0</td>\n",
       "      <td>1966</td>\n",
       "      <td>0</td>\n",
       "      <td>26206-26214 143rd Ave SE</td>\n",
       "      <td>Kent</td>\n",
       "      <td>WA 98042</td>\n",
       "      <td>USA</td>\n",
       "    </tr>\n",
       "    <tr>\n",
       "      <th>3</th>\n",
       "      <td>2014-05-02 00:00:00</td>\n",
       "      <td>6.772847</td>\n",
       "      <td>3.0</td>\n",
       "      <td>2.25</td>\n",
       "      <td>8.799831</td>\n",
       "      <td>4.420081</td>\n",
       "      <td>0.000000</td>\n",
       "      <td>0</td>\n",
       "      <td>0</td>\n",
       "      <td>4</td>\n",
       "      <td>3.493439</td>\n",
       "      <td>1000</td>\n",
       "      <td>1963</td>\n",
       "      <td>0</td>\n",
       "      <td>857 170th Pl NE</td>\n",
       "      <td>Bellevue</td>\n",
       "      <td>WA 98008</td>\n",
       "      <td>USA</td>\n",
       "    </tr>\n",
       "    <tr>\n",
       "      <th>4</th>\n",
       "      <td>2014-05-02 00:00:00</td>\n",
       "      <td>6.833669</td>\n",
       "      <td>4.0</td>\n",
       "      <td>2.50</td>\n",
       "      <td>8.759306</td>\n",
       "      <td>4.470892</td>\n",
       "      <td>0.000000</td>\n",
       "      <td>0</td>\n",
       "      <td>0</td>\n",
       "      <td>4</td>\n",
       "      <td>3.520484</td>\n",
       "      <td>800</td>\n",
       "      <td>1976</td>\n",
       "      <td>1992</td>\n",
       "      <td>9105 170th Ave NE</td>\n",
       "      <td>Redmond</td>\n",
       "      <td>WA 98052</td>\n",
       "      <td>USA</td>\n",
       "    </tr>\n",
       "    <tr>\n",
       "      <th>...</th>\n",
       "      <td>...</td>\n",
       "      <td>...</td>\n",
       "      <td>...</td>\n",
       "      <td>...</td>\n",
       "      <td>...</td>\n",
       "      <td>...</td>\n",
       "      <td>...</td>\n",
       "      <td>...</td>\n",
       "      <td>...</td>\n",
       "      <td>...</td>\n",
       "      <td>...</td>\n",
       "      <td>...</td>\n",
       "      <td>...</td>\n",
       "      <td>...</td>\n",
       "      <td>...</td>\n",
       "      <td>...</td>\n",
       "      <td>...</td>\n",
       "      <td>...</td>\n",
       "    </tr>\n",
       "    <tr>\n",
       "      <th>4595</th>\n",
       "      <td>2014-07-09 00:00:00</td>\n",
       "      <td>6.700672</td>\n",
       "      <td>3.0</td>\n",
       "      <td>1.75</td>\n",
       "      <td>8.427673</td>\n",
       "      <td>4.373843</td>\n",
       "      <td>0.000000</td>\n",
       "      <td>0</td>\n",
       "      <td>0</td>\n",
       "      <td>4</td>\n",
       "      <td>3.575864</td>\n",
       "      <td>0</td>\n",
       "      <td>1954</td>\n",
       "      <td>1979</td>\n",
       "      <td>501 N 143rd St</td>\n",
       "      <td>Seattle</td>\n",
       "      <td>WA 98133</td>\n",
       "      <td>USA</td>\n",
       "    </tr>\n",
       "    <tr>\n",
       "      <th>4596</th>\n",
       "      <td>2014-07-09 00:00:00</td>\n",
       "      <td>6.827240</td>\n",
       "      <td>3.0</td>\n",
       "      <td>2.50</td>\n",
       "      <td>8.383346</td>\n",
       "      <td>4.408645</td>\n",
       "      <td>0.581076</td>\n",
       "      <td>0</td>\n",
       "      <td>0</td>\n",
       "      <td>3</td>\n",
       "      <td>3.569413</td>\n",
       "      <td>0</td>\n",
       "      <td>1983</td>\n",
       "      <td>2009</td>\n",
       "      <td>14855 SE 10th Pl</td>\n",
       "      <td>Bellevue</td>\n",
       "      <td>WA 98007</td>\n",
       "      <td>USA</td>\n",
       "    </tr>\n",
       "    <tr>\n",
       "      <th>4597</th>\n",
       "      <td>2014-07-09 00:00:00</td>\n",
       "      <td>6.771152</td>\n",
       "      <td>3.0</td>\n",
       "      <td>2.50</td>\n",
       "      <td>9.348243</td>\n",
       "      <td>4.393493</td>\n",
       "      <td>0.581076</td>\n",
       "      <td>0</td>\n",
       "      <td>0</td>\n",
       "      <td>3</td>\n",
       "      <td>3.697741</td>\n",
       "      <td>0</td>\n",
       "      <td>2009</td>\n",
       "      <td>0</td>\n",
       "      <td>759 Ilwaco Pl NE</td>\n",
       "      <td>Renton</td>\n",
       "      <td>WA 98059</td>\n",
       "      <td>USA</td>\n",
       "    </tr>\n",
       "    <tr>\n",
       "      <th>4598</th>\n",
       "      <td>2014-07-10 00:00:00</td>\n",
       "      <td>6.599736</td>\n",
       "      <td>4.0</td>\n",
       "      <td>2.00</td>\n",
       "      <td>8.858477</td>\n",
       "      <td>4.382233</td>\n",
       "      <td>0.000000</td>\n",
       "      <td>0</td>\n",
       "      <td>0</td>\n",
       "      <td>3</td>\n",
       "      <td>3.507504</td>\n",
       "      <td>1020</td>\n",
       "      <td>1974</td>\n",
       "      <td>0</td>\n",
       "      <td>5148 S Creston St</td>\n",
       "      <td>Seattle</td>\n",
       "      <td>WA 98178</td>\n",
       "      <td>USA</td>\n",
       "    </tr>\n",
       "    <tr>\n",
       "      <th>4599</th>\n",
       "      <td>2014-07-10 00:00:00</td>\n",
       "      <td>6.619835</td>\n",
       "      <td>3.0</td>\n",
       "      <td>2.50</td>\n",
       "      <td>8.410115</td>\n",
       "      <td>4.421813</td>\n",
       "      <td>0.581076</td>\n",
       "      <td>0</td>\n",
       "      <td>0</td>\n",
       "      <td>4</td>\n",
       "      <td>3.573316</td>\n",
       "      <td>0</td>\n",
       "      <td>1990</td>\n",
       "      <td>0</td>\n",
       "      <td>18717 SE 258th St</td>\n",
       "      <td>Covington</td>\n",
       "      <td>WA 98042</td>\n",
       "      <td>USA</td>\n",
       "    </tr>\n",
       "  </tbody>\n",
       "</table>\n",
       "<p>4600 rows × 18 columns</p>\n",
       "</div>"
      ],
      "text/plain": [
       "                     date     price  bedrooms  bathrooms  sqft_living  \\\n",
       "0     2014-05-02 00:00:00  6.704361       3.0       1.50     8.270696   \n",
       "1     2014-05-02 00:00:00  7.133674       5.0       2.50     9.609817   \n",
       "2     2014-05-02 00:00:00  6.725240       3.0       2.00     8.752434   \n",
       "3     2014-05-02 00:00:00  6.772847       3.0       2.25     8.799831   \n",
       "4     2014-05-02 00:00:00  6.833669       4.0       2.50     8.759306   \n",
       "...                   ...       ...       ...        ...          ...   \n",
       "4595  2014-07-09 00:00:00  6.700672       3.0       1.75     8.427673   \n",
       "4596  2014-07-09 00:00:00  6.827240       3.0       2.50     8.383346   \n",
       "4597  2014-07-09 00:00:00  6.771152       3.0       2.50     9.348243   \n",
       "4598  2014-07-10 00:00:00  6.599736       4.0       2.00     8.858477   \n",
       "4599  2014-07-10 00:00:00  6.619835       3.0       2.50     8.410115   \n",
       "\n",
       "      sqft_lot    floors  waterfront  view  condition  sqft_above  \\\n",
       "0     4.417203  0.365233           0     0          3    3.552761   \n",
       "1     4.443044  0.581076           0     4          5    3.715950   \n",
       "2     4.494481  0.000000           0     0          4    3.621418   \n",
       "3     4.420081  0.000000           0     0          4    3.493439   \n",
       "4     4.470892  0.000000           0     0          4    3.520484   \n",
       "...        ...       ...         ...   ...        ...         ...   \n",
       "4595  4.373843  0.000000           0     0          4    3.575864   \n",
       "4596  4.408645  0.581076           0     0          3    3.569413   \n",
       "4597  4.393493  0.581076           0     0          3    3.697741   \n",
       "4598  4.382233  0.000000           0     0          3    3.507504   \n",
       "4599  4.421813  0.581076           0     0          4    3.573316   \n",
       "\n",
       "      sqft_basement  yr_built  yr_renovated                    street  \\\n",
       "0                 0      1955          2005      18810 Densmore Ave N   \n",
       "1               280      1921             0           709 W Blaine St   \n",
       "2                 0      1966             0  26206-26214 143rd Ave SE   \n",
       "3              1000      1963             0           857 170th Pl NE   \n",
       "4               800      1976          1992         9105 170th Ave NE   \n",
       "...             ...       ...           ...                       ...   \n",
       "4595              0      1954          1979            501 N 143rd St   \n",
       "4596              0      1983          2009          14855 SE 10th Pl   \n",
       "4597              0      2009             0          759 Ilwaco Pl NE   \n",
       "4598           1020      1974             0         5148 S Creston St   \n",
       "4599              0      1990             0         18717 SE 258th St   \n",
       "\n",
       "           city  statezip country  \n",
       "0     Shoreline  WA 98133     USA  \n",
       "1       Seattle  WA 98119     USA  \n",
       "2          Kent  WA 98042     USA  \n",
       "3      Bellevue  WA 98008     USA  \n",
       "4       Redmond  WA 98052     USA  \n",
       "...         ...       ...     ...  \n",
       "4595    Seattle  WA 98133     USA  \n",
       "4596   Bellevue  WA 98007     USA  \n",
       "4597     Renton  WA 98059     USA  \n",
       "4598    Seattle  WA 98178     USA  \n",
       "4599  Covington  WA 98042     USA  \n",
       "\n",
       "[4600 rows x 18 columns]"
      ]
     },
     "execution_count": 39,
     "metadata": {},
     "output_type": "execute_result"
    }
   ],
   "source": [
    "data"
   ]
  },
  {
   "cell_type": "code",
   "execution_count": 40,
   "id": "2a6ccbbd",
   "metadata": {},
   "outputs": [],
   "source": [
    "feature_name=['sqft_living','sqft_lot','floors','sqft_above']\n",
    "X=data[feature_name]"
   ]
  },
  {
   "cell_type": "code",
   "execution_count": 41,
   "id": "cc723629",
   "metadata": {},
   "outputs": [
    {
     "data": {
      "text/html": [
       "<div>\n",
       "<style scoped>\n",
       "    .dataframe tbody tr th:only-of-type {\n",
       "        vertical-align: middle;\n",
       "    }\n",
       "\n",
       "    .dataframe tbody tr th {\n",
       "        vertical-align: top;\n",
       "    }\n",
       "\n",
       "    .dataframe thead th {\n",
       "        text-align: right;\n",
       "    }\n",
       "</style>\n",
       "<table border=\"1\" class=\"dataframe\">\n",
       "  <thead>\n",
       "    <tr style=\"text-align: right;\">\n",
       "      <th></th>\n",
       "      <th>sqft_living</th>\n",
       "      <th>sqft_lot</th>\n",
       "      <th>floors</th>\n",
       "      <th>sqft_above</th>\n",
       "    </tr>\n",
       "  </thead>\n",
       "  <tbody>\n",
       "    <tr>\n",
       "      <th>0</th>\n",
       "      <td>8.270696</td>\n",
       "      <td>4.417203</td>\n",
       "      <td>0.365233</td>\n",
       "      <td>3.552761</td>\n",
       "    </tr>\n",
       "    <tr>\n",
       "      <th>1</th>\n",
       "      <td>9.609817</td>\n",
       "      <td>4.443044</td>\n",
       "      <td>0.581076</td>\n",
       "      <td>3.715950</td>\n",
       "    </tr>\n",
       "    <tr>\n",
       "      <th>2</th>\n",
       "      <td>8.752434</td>\n",
       "      <td>4.494481</td>\n",
       "      <td>0.000000</td>\n",
       "      <td>3.621418</td>\n",
       "    </tr>\n",
       "    <tr>\n",
       "      <th>3</th>\n",
       "      <td>8.799831</td>\n",
       "      <td>4.420081</td>\n",
       "      <td>0.000000</td>\n",
       "      <td>3.493439</td>\n",
       "    </tr>\n",
       "    <tr>\n",
       "      <th>4</th>\n",
       "      <td>8.759306</td>\n",
       "      <td>4.470892</td>\n",
       "      <td>0.000000</td>\n",
       "      <td>3.520484</td>\n",
       "    </tr>\n",
       "  </tbody>\n",
       "</table>\n",
       "</div>"
      ],
      "text/plain": [
       "   sqft_living  sqft_lot    floors  sqft_above\n",
       "0     8.270696  4.417203  0.365233    3.552761\n",
       "1     9.609817  4.443044  0.581076    3.715950\n",
       "2     8.752434  4.494481  0.000000    3.621418\n",
       "3     8.799831  4.420081  0.000000    3.493439\n",
       "4     8.759306  4.470892  0.000000    3.520484"
      ]
     },
     "execution_count": 41,
     "metadata": {},
     "output_type": "execute_result"
    }
   ],
   "source": [
    "X.head()"
   ]
  },
  {
   "cell_type": "code",
   "execution_count": 45,
   "id": "4a71fd71",
   "metadata": {},
   "outputs": [],
   "source": [
    "y=data['price']"
   ]
  },
  {
   "cell_type": "code",
   "execution_count": 42,
   "id": "b1e8275b",
   "metadata": {},
   "outputs": [],
   "source": [
    "from sklearn.preprocessing import StandardScaler\n",
    "scaler= StandardScaler()\n",
    "\n",
    "x_scaled = scaler.fit_transform(X)"
   ]
  },
  {
   "cell_type": "code",
   "execution_count": 46,
   "id": "4ced94f3",
   "metadata": {},
   "outputs": [
    {
     "data": {
      "text/plain": [
       "LinearRegression()"
      ]
     },
     "execution_count": 46,
     "metadata": {},
     "output_type": "execute_result"
    }
   ],
   "source": [
    "# from _ import _\n",
    "#specify the model. \n",
    "#For model reproducibility, set a numeric value for random_state when specifying the model\n",
    "from sklearn.model_selection import train_test_split\n",
    "from sklearn.linear_model import LinearRegression\n",
    "x_train,x_test,y_train,y_test= train_test_split(x_scaled,y,test_size=0.25,random_state=200)\n",
    "\n",
    "# Fit the model\n",
    "reg=LinearRegression()\n",
    "reg.fit(x_train,y_train)\n"
   ]
  },
  {
   "cell_type": "code",
   "execution_count": 47,
   "id": "19d10092",
   "metadata": {},
   "outputs": [
    {
     "data": {
      "text/plain": [
       "0.4520266804286982"
      ]
     },
     "execution_count": 47,
     "metadata": {},
     "output_type": "execute_result"
    }
   ],
   "source": [
    "reg.score(x_train,y_train)"
   ]
  },
  {
   "cell_type": "code",
   "execution_count": 48,
   "id": "e6364324",
   "metadata": {},
   "outputs": [
    {
     "data": {
      "text/plain": [
       "0.44112795042034214"
      ]
     },
     "execution_count": 48,
     "metadata": {},
     "output_type": "execute_result"
    }
   ],
   "source": [
    "reg.score(x_test,y_test)"
   ]
  },
  {
   "cell_type": "code",
   "execution_count": 49,
   "id": "1d3a3f55",
   "metadata": {},
   "outputs": [],
   "source": [
    "def adj_r2(x,y):\n",
    "    r2=reg.score(x,y)\n",
    "    n = x.shape[0]\n",
    "    p = x.shape[1]\n",
    "    adjusted_r2 = 1-(1-r2)*(n-1)/(n-p-1)\n",
    "    return adjusted_r2"
   ]
  },
  {
   "cell_type": "code",
   "execution_count": 50,
   "id": "aeed0fe1",
   "metadata": {},
   "outputs": [
    {
     "data": {
      "text/plain": [
       "0.43917555898076255"
      ]
     },
     "execution_count": 50,
     "metadata": {},
     "output_type": "execute_result"
    }
   ],
   "source": [
    "adj_r2(x_test,y_test)"
   ]
  },
  {
   "cell_type": "code",
   "execution_count": 51,
   "id": "fdb9a8fd",
   "metadata": {},
   "outputs": [
    {
     "data": {
      "text/plain": [
       "array([6.76069721, 6.74256563, 6.80891604, ..., 6.79976891, 6.82094963,\n",
       "       6.72802756])"
      ]
     },
     "execution_count": 51,
     "metadata": {},
     "output_type": "execute_result"
    }
   ],
   "source": [
    "y_pred=reg.predict(x_test)\n",
    "y_pred"
   ]
  },
  {
   "cell_type": "code",
   "execution_count": 52,
   "id": "5d366983",
   "metadata": {},
   "outputs": [
    {
     "data": {
      "text/plain": [
       "0.008129827542215189"
      ]
     },
     "execution_count": 52,
     "metadata": {},
     "output_type": "execute_result"
    }
   ],
   "source": [
    "from sklearn.metrics import mean_squared_error as mse\n",
    "z=mse(y_test,y_pred)\n",
    "z"
   ]
  },
  {
   "cell_type": "code",
   "execution_count": 53,
   "id": "3da16369",
   "metadata": {},
   "outputs": [
    {
     "data": {
      "text/plain": [
       "0.09016555629626642"
      ]
     },
     "execution_count": 53,
     "metadata": {},
     "output_type": "execute_result"
    }
   ],
   "source": [
    "s=np.sqrt(z)\n",
    "s                 ##Root mean square"
   ]
  },
  {
   "cell_type": "code",
   "execution_count": 54,
   "id": "fda8e99d",
   "metadata": {},
   "outputs": [
    {
     "data": {
      "text/plain": [
       "0.07039219756600484"
      ]
     },
     "execution_count": 54,
     "metadata": {},
     "output_type": "execute_result"
    }
   ],
   "source": [
    "from sklearn.metrics import mean_absolute_error as mae\n",
    "mae(y_test, y_pred)"
   ]
  },
  {
   "cell_type": "code",
   "execution_count": 55,
   "id": "ec10c0ec",
   "metadata": {},
   "outputs": [],
   "source": [
    "def MAPE(y_actual,y_predicted):\n",
    "    mape = np.mean(np.abs((y_actual-y_predicted)/y_actual))\n",
    "    return mape"
   ]
  },
  {
   "cell_type": "code",
   "execution_count": 56,
   "id": "2b91ad74",
   "metadata": {},
   "outputs": [
    {
     "data": {
      "text/plain": [
       "0.010371842733165153"
      ]
     },
     "execution_count": 56,
     "metadata": {},
     "output_type": "execute_result"
    }
   ],
   "source": [
    "MAPE(y_test,y_pred)"
   ]
  },
  {
   "cell_type": "code",
   "execution_count": 57,
   "id": "2ab86996",
   "metadata": {},
   "outputs": [],
   "source": [
    "from sklearn.metrics import mean_absolute_percentage_error as mape"
   ]
  },
  {
   "cell_type": "code",
   "execution_count": 58,
   "id": "f1d228e6",
   "metadata": {},
   "outputs": [
    {
     "data": {
      "text/plain": [
       "0.01037184273316514"
      ]
     },
     "execution_count": 58,
     "metadata": {},
     "output_type": "execute_result"
    }
   ],
   "source": [
    "a=mape(y_test,y_pred)\n",
    "a"
   ]
  },
  {
   "cell_type": "code",
   "execution_count": null,
   "id": "b2dc8da0",
   "metadata": {},
   "outputs": [],
   "source": []
  }
 ],
 "metadata": {
  "kernelspec": {
   "display_name": "Python 3",
   "language": "python",
   "name": "python3"
  },
  "language_info": {
   "codemirror_mode": {
    "name": "ipython",
    "version": 3
   },
   "file_extension": ".py",
   "mimetype": "text/x-python",
   "name": "python",
   "nbconvert_exporter": "python",
   "pygments_lexer": "ipython3",
   "version": "3.8.8"
  }
 },
 "nbformat": 4,
 "nbformat_minor": 5
}
